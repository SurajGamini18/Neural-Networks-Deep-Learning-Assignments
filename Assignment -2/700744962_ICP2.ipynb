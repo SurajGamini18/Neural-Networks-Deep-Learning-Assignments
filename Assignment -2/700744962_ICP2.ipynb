{
  "nbformat": 4,
  "nbformat_minor": 0,
  "metadata": {
    "colab": {
      "provenance": []
    },
    "kernelspec": {
      "name": "python3",
      "display_name": "Python 3"
    },
    "language_info": {
      "name": "python"
    }
  },
  "cells": [
    {
      "cell_type": "markdown",
      "source": [
        "                                      Neural Networks & Deep Learning ICP-2\n"
      ],
      "metadata": {
        "id": "QEjV2NcoNKN_"
      }
    },
    {
      "cell_type": "markdown",
      "source": [
        "Question - 1"
      ],
      "metadata": {
        "id": "FoU6pn68NkEf"
      }
    },
    {
      "cell_type": "code",
      "source": [
        "# Define a function to concatenate first_name and last_name into a full name\n",
        "def fullname(first_name, last_name):\n",
        "    full_name = first_name + \" \" + last_name\n",
        "    return full_name\n",
        "\n",
        "# Define a function to return every other character in a given string\n",
        "def string_alternative(full_name):\n",
        "    alternate_chars = \"\"\n",
        "    for i in range(0, len(full_name), 2):\n",
        "        alternate_chars += full_name[i]\n",
        "    return alternate_chars\n",
        "\n",
        "# Main function to collect user input, process it, and display results\n",
        "def main():\n",
        "    # Prompt the user to enter their first name\n",
        "    first_name = input(\"Enter your first name: \")\n",
        "\n",
        "    # Prompt the user to enter their last name\n",
        "    last_name = input(\"Enter your last name: \")\n",
        "\n",
        "    # Call the fullname function to concatenate the first and last names\n",
        "    full_name = fullname(first_name, last_name)\n",
        "\n",
        "    # Display the full name\n",
        "    print(\"Full Name:\", full_name)\n",
        "\n",
        "    # Call the string_alternative function to get alternate characters in the full name\n",
        "    alternate_chars = string_alternative(full_name)\n",
        "\n",
        "    # Display the alternate characters in the full name\n",
        "    print(\"Alternate Characters in Full Name:\", alternate_chars)\n",
        "\n",
        "# Check if the script is run as the main program\n",
        "if __name__ == \"__main__\":\n",
        "    main()\n"
      ],
      "metadata": {
        "colab": {
          "base_uri": "https://localhost:8080/"
        },
        "id": "dAkmZlppNWuQ",
        "outputId": "35c7a8a4-875b-4ec2-9221-6a7f44af7c81"
      },
      "execution_count": 30,
      "outputs": [
        {
          "output_type": "stream",
          "name": "stdout",
          "text": [
            "Enter your first name: Venkata Suraj\n",
            "Enter your last name: Gamini\n",
            "Full Name: Venkata Suraj Gamini\n",
            "Alternate Characters in Full Name: VnaaSrjGmn\n"
          ]
        }
      ]
    },
    {
      "cell_type": "markdown",
      "source": [
        "Question - 2"
      ],
      "metadata": {
        "id": "RukyF41BNrVG"
      }
    },
    {
      "cell_type": "code",
      "source": [
        "import re\n",
        "\n",
        "# Function to count words in a line\n",
        "def count_words(line, word_counts):\n",
        "    # Use regular expression to split the line into words and exclude punctuation\n",
        "    words = re.findall(r'\\b\\w+\\b', line.lower())\n",
        "    for word in words:\n",
        "        word_counts[word] = word_counts.get(word, 0) + 1\n",
        "\n",
        "# Read input from input.txt file\n",
        "with open(\"/content/input.txt\", \"r\") as input_file:\n",
        "    lines = input_file.readlines()\n",
        "\n",
        "# Initialize a dictionary to store word counts\n",
        "word_counts = {}\n",
        "\n",
        "# Count words in the entire file\n",
        "for line in lines:\n",
        "    count_words(line.strip(), word_counts)\n",
        "\n",
        "# Print the original lines\n",
        "print(\"Input:\")\n",
        "for line in lines:\n",
        "    print(line.strip())\n",
        "\n",
        "# Print the word counts, displaying each word only once\n",
        "print(\"Word_Count:\")\n",
        "displayed_words = set()\n",
        "for line in lines:\n",
        "    words = re.findall(r'\\b\\w+\\b', line.lower())\n",
        "    for word in words:\n",
        "        if word not in displayed_words:\n",
        "            print(f\"{word}: {word_counts[word]}\")\n",
        "            displayed_words.add(word)\n",
        "\n",
        "# Write the output to output.txt file\n",
        "with open(\"output.txt\", \"w\") as output_file:\n",
        "    output_file.write(\"Input:\\n\")\n",
        "    for line in lines:\n",
        "        output_file.write(line.strip() + \"\\n\")\n",
        "    output_file.write(\"Word_Count:\\n\")\n",
        "    for word in displayed_words:\n",
        "        output_file.write(f\"{word}: {word_counts[word]}\\n\")\n",
        "\n",
        "print(\"Output saved to output.txt\")\n",
        "\n",
        "\n",
        "\n"
      ],
      "metadata": {
        "colab": {
          "base_uri": "https://localhost:8080/"
        },
        "id": "M5eX_gAQNs-y",
        "outputId": "c3d86493-fc5c-418d-cc0a-cc9a7746f2c2"
      },
      "execution_count": 31,
      "outputs": [
        {
          "output_type": "stream",
          "name": "stdout",
          "text": [
            "Input:\n",
            "Python Course\n",
            "Deep Learning Course\n",
            "Word_Count:\n",
            "python: 1\n",
            "course: 2\n",
            "deep: 1\n",
            "learning: 1\n",
            "Output saved to output.txt\n"
          ]
        }
      ]
    },
    {
      "cell_type": "markdown",
      "source": [
        "Question - 3"
      ],
      "metadata": {
        "id": "T-30I43cV9wA"
      }
    },
    {
      "cell_type": "code",
      "source": [
        "import ast\n",
        "\n",
        "def centimeters_to_inches(centimeters):\n",
        "    return centimeters / 2.54\n",
        "\n",
        "# Function to read a list of heights from user input\n",
        "def get_heights():\n",
        "    input_string = input(\"Enter a list of heights in centimeters: \")\n",
        "    try:\n",
        "        # Safely evaluate the input string to a list\n",
        "        heights = ast.literal_eval(input_string)\n",
        "        if isinstance(heights, list) and all(isinstance(height, int) for height in heights):\n",
        "            return heights\n",
        "        else:\n",
        "            raise ValueError\n",
        "    except (ValueError, SyntaxError):\n",
        "        print(\"Invalid input. Please enter a valid list of integers.\")\n",
        "        return []\n",
        "\n",
        "# Read heights from user\n",
        "heights_cm = get_heights()\n",
        "\n",
        "# Convert to inches using a nested loop\n",
        "heights_in_inches_loop = []\n",
        "for height in heights_cm:\n",
        "    inches = centimeters_to_inches(height)\n",
        "    heights_in_inches_loop.append(round(inches, 2))\n",
        "\n",
        "# Convert to inches using list comprehension\n",
        "heights_in_inches_comprehension = [round(centimeters_to_inches(height), 2) for height in heights_cm]\n",
        "\n",
        "# Output\n",
        "print(\"Heights in Inches (Nested Loop):\", heights_in_inches_loop)\n",
        "print(\"Heights in Inches (List Comprehension):\", heights_in_inches_comprehension)\n"
      ],
      "metadata": {
        "colab": {
          "base_uri": "https://localhost:8080/"
        },
        "id": "KYJRv2TpkU5a",
        "outputId": "e0fb1cad-2649-45b0-c999-a6e8ec828ecd"
      },
      "execution_count": 33,
      "outputs": [
        {
          "output_type": "stream",
          "name": "stdout",
          "text": [
            "Enter a list of heights in centimeters: [150,155, 145, 148]\n",
            "Heights in Inches (Nested Loop): [59.06, 61.02, 57.09, 58.27]\n",
            "Heights in Inches (List Comprehension): [59.06, 61.02, 57.09, 58.27]\n"
          ]
        }
      ]
    }
  ]
}