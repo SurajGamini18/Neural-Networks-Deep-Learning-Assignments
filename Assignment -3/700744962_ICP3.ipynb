{
  "nbformat": 4,
  "nbformat_minor": 0,
  "metadata": {
    "colab": {
      "provenance": []
    },
    "kernelspec": {
      "name": "python3",
      "display_name": "Python 3"
    },
    "language_info": {
      "name": "python"
    }
  },
  "cells": [
    {
      "cell_type": "markdown",
      "source": [
        "                                                                          ICP-3"
      ],
      "metadata": {
        "id": "V4aQJHht-Z-Z"
      }
    },
    {
      "cell_type": "markdown",
      "source": [
        "Q1"
      ],
      "metadata": {
        "id": "h6ZJjVS2-ZW8"
      }
    },
    {
      "cell_type": "code",
      "source": [
        "class Employee:\n",
        "    employee_count = 0\n",
        "    total_salary = 0\n",
        "\n",
        "    def __init__(self, name, family, salary, department):\n",
        "        self.name = name\n",
        "        self.family = family\n",
        "        self.salary = salary\n",
        "        self.department = department\n",
        "        Employee.employee_count += 1\n",
        "        Employee.total_salary += salary\n",
        "\n",
        "    @classmethod\n",
        "    def average_salary(cls):\n",
        "        if cls.employee_count > 0:\n",
        "            return cls.total_salary / cls.employee_count\n",
        "        return 0\n",
        "\n",
        "    def display_employee(self):\n",
        "        return f\"Employee: {self.name}, Department: {self.department}, Salary: {self.salary}\"\n",
        "\n",
        "class FulltimeEmployee(Employee):\n",
        "    ft_employee_count = 0\n",
        "    ft_total_salary = 0\n",
        "\n",
        "    def __init__(self, name, family, salary, department):\n",
        "        super().__init__(name, family, salary, department)\n",
        "        FulltimeEmployee.ft_employee_count += 1\n",
        "        FulltimeEmployee.ft_total_salary += salary\n",
        "\n",
        "    @classmethod\n",
        "    def average_salary(cls):\n",
        "        if cls.ft_employee_count > 0:\n",
        "            return cls.ft_total_salary / cls.ft_employee_count\n",
        "        return 0\n",
        "\n",
        "    def display_employee(self):\n",
        "        return f\"Fulltime Employee: {self.name}, Department: {self.department}, Salary: {self.salary}\"\n",
        "\n",
        "# Creating instances\n",
        "emp1 = Employee(\"John\", \"Doe\", 50000, \"HR\")\n",
        "emp2 = Employee(\"Jane\", \"Doe\", 60000, \"Finance\")\n",
        "ft_emp1 = FulltimeEmployee(\"Alice\", \"Smith\", 70000, \"IT\")\n",
        "ft_emp2 = FulltimeEmployee(\"Bob\", \"Jones\", 80000, \"Marketing\")\n",
        "\n",
        "# Displaying information\n",
        "print(emp1.display_employee())\n",
        "print(emp2.display_employee())\n",
        "print(ft_emp1.display_employee())\n",
        "print(ft_emp2.display_employee())\n",
        "\n",
        "# Displaying average salaries and counts\n",
        "print(f\"Average Salary of Employees: {Employee.average_salary()}\")\n",
        "print(f\"Number of Employees: {Employee.employee_count}\")\n",
        "print(f\"Average Salary of Fulltime Employees: {FulltimeEmployee.average_salary()}\")\n",
        "print(f\"Number of Fulltime Employees: {FulltimeEmployee.ft_employee_count}\")\n"
      ],
      "metadata": {
        "colab": {
          "base_uri": "https://localhost:8080/"
        },
        "id": "szA77biQ_egB",
        "outputId": "749174be-d57f-4529-d2fd-af1e3769b7de"
      },
      "execution_count": 2,
      "outputs": [
        {
          "output_type": "stream",
          "name": "stdout",
          "text": [
            "Employee: John, Department: HR, Salary: 50000\n",
            "Employee: Jane, Department: Finance, Salary: 60000\n",
            "Fulltime Employee: Alice, Department: IT, Salary: 70000\n",
            "Fulltime Employee: Bob, Department: Marketing, Salary: 80000\n",
            "Average Salary of Employees: 65000.0\n",
            "Number of Employees: 4\n",
            "Average Salary of Fulltime Employees: 75000.0\n",
            "Number of Fulltime Employees: 2\n"
          ]
        }
      ]
    },
    {
      "cell_type": "markdown",
      "source": [
        "Q2"
      ],
      "metadata": {
        "id": "DQH0DfrZ-Wco"
      }
    },
    {
      "cell_type": "code",
      "source": [
        "import numpy as np\n",
        "\n",
        "# Create random vector of size 20 with floats in the range 1-20\n",
        "random_vector = np.random.uniform(1, 20, 20)\n",
        "\n",
        "# Reshape the array to 4 by 5\n",
        "reshaped_array = random_vector.reshape(4, 5)\n",
        "\n",
        "# Replace the max in each row by 0\n",
        "reshaped_array[reshaped_array == reshaped_array.max(axis=1, keepdims=True)] = 0\n",
        "\n",
        "reshaped_array\n"
      ],
      "metadata": {
        "colab": {
          "base_uri": "https://localhost:8080/"
        },
        "id": "VyXBWbsz_pUY",
        "outputId": "c9f3f338-78d9-4191-b8fb-9031e70ee055"
      },
      "execution_count": 3,
      "outputs": [
        {
          "output_type": "execute_result",
          "data": {
            "text/plain": [
              "array([[14.70134197, 13.03554151,  7.25405228,  0.        ,  6.23386914],\n",
              "       [ 5.45423432,  5.7069759 ,  0.        ,  2.63847477,  2.03058003],\n",
              "       [14.92580646,  6.8243149 ,  2.95644387, 12.89565488,  0.        ],\n",
              "       [ 5.92459878,  6.89802205,  4.47456801,  7.45444271,  0.        ]])"
            ]
          },
          "metadata": {},
          "execution_count": 3
        }
      ]
    }
  ]
}